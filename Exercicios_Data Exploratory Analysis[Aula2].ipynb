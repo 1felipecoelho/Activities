{
 "metadata": {
  "language_info": {
   "codemirror_mode": {
    "name": "ipython",
    "version": 3
   },
   "file_extension": ".py",
   "mimetype": "text/x-python",
   "name": "python",
   "nbconvert_exporter": "python",
   "pygments_lexer": "ipython3",
   "version": "3.9.5"
  },
  "orig_nbformat": 2,
  "kernelspec": {
   "name": "python395jvsc74a57bd02454d06ce9b36fa94a9e6a9b13915ea6e7c8f73dd9c19d63eb6c48af94332b28",
   "display_name": "Python 3.9.5 64-bit"
  },
  "metadata": {
   "interpreter": {
    "hash": "2454d06ce9b36fa94a9e6a9b13915ea6e7c8f73dd9c19d63eb6c48af94332b28"
   }
  }
 },
 "nbformat": 4,
 "nbformat_minor": 2,
 "cells": [
  {
   "cell_type": "code",
   "execution_count": 1,
   "metadata": {},
   "outputs": [],
   "source": [
    "# 5.7. Exercício - Medidas de posição\n",
    "# Faça o download dos dados de nascidos vivos em 2017 de Sergipe e responda às seguintes perguntas:\n",
    "\n",
    "# 1.Qual a média da idade da mãe, peso, apgar 1 min, apgar 5 min, quantidade de filhos vivos e quantidade de filhos mortos?\n",
    "# 2.Qual a idade tal que metade das idades das mães são menores que ela (mediana)?\n",
    "# 3.Qual o apgar de 1 min que mais aparece (moda)?\n",
    "# 4.Qual o apgar de 5 minutos que mais aparece?\n",
    "# 5.Qual o peso da criança tal que 10% dos pesos são menores (P10)?\n",
    "# 6.Qual o peso da criança tal que 75% dos pesos são menores (Q3)?\n",
    "# 7.Qual a quantidade de filhos mortos que mais aparece?\n",
    "# 8.Qual a média de idade de mães solteiras?\n",
    "# 9.Qual a quantidade de filhos vivos das mães com até 3 anos de escolaridade tal que 25% dessa quantidade são menores (Q1)?\n",
    "# 10.Qual a moda da idade das mães para as crianças que nasceram com anomalia congênita?"
   ]
  },
  {
   "cell_type": "code",
   "execution_count": 93,
   "metadata": {},
   "outputs": [
    {
     "output_type": "execute_result",
     "data": {
      "text/plain": [
       "      contador ORIGEM CODESTAB CODMUNNASC LOCNASC IDADEMAE ESTCIVMAE ESCMAE  \\\n",
       "0            1      1  2415631     230440       1       24         2      4   \n",
       "1            2      1  2005050     270030       1       34         5      4   \n",
       "2            3      1  2005050     270030       1       19         2      4   \n",
       "3            4      1  2005026     270030       1       19         2      4   \n",
       "4            5      1  2722429     270400       1       16         1      4   \n",
       "...        ...    ...      ...        ...     ...      ...       ...    ...   \n",
       "33862    33863      1  2115891     314480       1       31         2      5   \n",
       "33863    33864      1  3137163     350610       1       26         2      4   \n",
       "33864    33865      1  2755092     353800       1       26         1      5   \n",
       "33865    33866      1  2077574     355030       1       33         1      4   \n",
       "33866    33867      2  6901743     280210       1       23         1      4   \n",
       "\n",
       "      CODOCUPMAE QTDFILVIVO  ... TPFUNCRESP TPDOCRESP DTDECLARAC ESCMAEAGR1  \\\n",
       "0         999992         01  ...        NaN         0        NaN         12   \n",
       "1         622020         03  ...        NaN         3   05042017         06   \n",
       "2         622020        NaN  ...        NaN         3   03042017         06   \n",
       "3         999992         01  ...          2         3   29042017         04   \n",
       "4         999991         00  ...          2         4   19042017         05   \n",
       "...          ...        ...  ...        ...       ...        ...        ...   \n",
       "33862     121010         01  ...          5         4   27092017         08   \n",
       "33863     376225         00  ...          2         3   15102017         06   \n",
       "33864     999992         00  ...          5         4   24102017         08   \n",
       "33865     999992         01  ...          5         4   21082017         05   \n",
       "33866     622020         02  ...          4         4   06112017         12   \n",
       "\n",
       "      STDNEPIDEM STDNNOVA CODPAISRES TPROBSON PARIDADE KOTELCHUCK  \n",
       "0              0        1        NaN       05        1          9  \n",
       "1              0        1        NaN       03        1          3  \n",
       "2              0        1        NaN       11        0          5  \n",
       "3              0        1        NaN       05        1          2  \n",
       "4              0        1        NaN       03        1          2  \n",
       "...          ...      ...        ...      ...      ...        ...  \n",
       "33862          0        1        NaN       10        1          5  \n",
       "33863          0        1        NaN       02        0          3  \n",
       "33864          0        1        NaN       04        1          5  \n",
       "33865          0        1        NaN       04        1          5  \n",
       "33866          0        1        NaN       03        1          5  \n",
       "\n",
       "[33867 rows x 61 columns]"
      ],
      "text/html": "<div>\n<style scoped>\n    .dataframe tbody tr th:only-of-type {\n        vertical-align: middle;\n    }\n\n    .dataframe tbody tr th {\n        vertical-align: top;\n    }\n\n    .dataframe thead th {\n        text-align: right;\n    }\n</style>\n<table border=\"1\" class=\"dataframe\">\n  <thead>\n    <tr style=\"text-align: right;\">\n      <th></th>\n      <th>contador</th>\n      <th>ORIGEM</th>\n      <th>CODESTAB</th>\n      <th>CODMUNNASC</th>\n      <th>LOCNASC</th>\n      <th>IDADEMAE</th>\n      <th>ESTCIVMAE</th>\n      <th>ESCMAE</th>\n      <th>CODOCUPMAE</th>\n      <th>QTDFILVIVO</th>\n      <th>...</th>\n      <th>TPFUNCRESP</th>\n      <th>TPDOCRESP</th>\n      <th>DTDECLARAC</th>\n      <th>ESCMAEAGR1</th>\n      <th>STDNEPIDEM</th>\n      <th>STDNNOVA</th>\n      <th>CODPAISRES</th>\n      <th>TPROBSON</th>\n      <th>PARIDADE</th>\n      <th>KOTELCHUCK</th>\n    </tr>\n  </thead>\n  <tbody>\n    <tr>\n      <th>0</th>\n      <td>1</td>\n      <td>1</td>\n      <td>2415631</td>\n      <td>230440</td>\n      <td>1</td>\n      <td>24</td>\n      <td>2</td>\n      <td>4</td>\n      <td>999992</td>\n      <td>01</td>\n      <td>...</td>\n      <td>NaN</td>\n      <td>0</td>\n      <td>NaN</td>\n      <td>12</td>\n      <td>0</td>\n      <td>1</td>\n      <td>NaN</td>\n      <td>05</td>\n      <td>1</td>\n      <td>9</td>\n    </tr>\n    <tr>\n      <th>1</th>\n      <td>2</td>\n      <td>1</td>\n      <td>2005050</td>\n      <td>270030</td>\n      <td>1</td>\n      <td>34</td>\n      <td>5</td>\n      <td>4</td>\n      <td>622020</td>\n      <td>03</td>\n      <td>...</td>\n      <td>NaN</td>\n      <td>3</td>\n      <td>05042017</td>\n      <td>06</td>\n      <td>0</td>\n      <td>1</td>\n      <td>NaN</td>\n      <td>03</td>\n      <td>1</td>\n      <td>3</td>\n    </tr>\n    <tr>\n      <th>2</th>\n      <td>3</td>\n      <td>1</td>\n      <td>2005050</td>\n      <td>270030</td>\n      <td>1</td>\n      <td>19</td>\n      <td>2</td>\n      <td>4</td>\n      <td>622020</td>\n      <td>NaN</td>\n      <td>...</td>\n      <td>NaN</td>\n      <td>3</td>\n      <td>03042017</td>\n      <td>06</td>\n      <td>0</td>\n      <td>1</td>\n      <td>NaN</td>\n      <td>11</td>\n      <td>0</td>\n      <td>5</td>\n    </tr>\n    <tr>\n      <th>3</th>\n      <td>4</td>\n      <td>1</td>\n      <td>2005026</td>\n      <td>270030</td>\n      <td>1</td>\n      <td>19</td>\n      <td>2</td>\n      <td>4</td>\n      <td>999992</td>\n      <td>01</td>\n      <td>...</td>\n      <td>2</td>\n      <td>3</td>\n      <td>29042017</td>\n      <td>04</td>\n      <td>0</td>\n      <td>1</td>\n      <td>NaN</td>\n      <td>05</td>\n      <td>1</td>\n      <td>2</td>\n    </tr>\n    <tr>\n      <th>4</th>\n      <td>5</td>\n      <td>1</td>\n      <td>2722429</td>\n      <td>270400</td>\n      <td>1</td>\n      <td>16</td>\n      <td>1</td>\n      <td>4</td>\n      <td>999991</td>\n      <td>00</td>\n      <td>...</td>\n      <td>2</td>\n      <td>4</td>\n      <td>19042017</td>\n      <td>05</td>\n      <td>0</td>\n      <td>1</td>\n      <td>NaN</td>\n      <td>03</td>\n      <td>1</td>\n      <td>2</td>\n    </tr>\n    <tr>\n      <th>...</th>\n      <td>...</td>\n      <td>...</td>\n      <td>...</td>\n      <td>...</td>\n      <td>...</td>\n      <td>...</td>\n      <td>...</td>\n      <td>...</td>\n      <td>...</td>\n      <td>...</td>\n      <td>...</td>\n      <td>...</td>\n      <td>...</td>\n      <td>...</td>\n      <td>...</td>\n      <td>...</td>\n      <td>...</td>\n      <td>...</td>\n      <td>...</td>\n      <td>...</td>\n      <td>...</td>\n    </tr>\n    <tr>\n      <th>33862</th>\n      <td>33863</td>\n      <td>1</td>\n      <td>2115891</td>\n      <td>314480</td>\n      <td>1</td>\n      <td>31</td>\n      <td>2</td>\n      <td>5</td>\n      <td>121010</td>\n      <td>01</td>\n      <td>...</td>\n      <td>5</td>\n      <td>4</td>\n      <td>27092017</td>\n      <td>08</td>\n      <td>0</td>\n      <td>1</td>\n      <td>NaN</td>\n      <td>10</td>\n      <td>1</td>\n      <td>5</td>\n    </tr>\n    <tr>\n      <th>33863</th>\n      <td>33864</td>\n      <td>1</td>\n      <td>3137163</td>\n      <td>350610</td>\n      <td>1</td>\n      <td>26</td>\n      <td>2</td>\n      <td>4</td>\n      <td>376225</td>\n      <td>00</td>\n      <td>...</td>\n      <td>2</td>\n      <td>3</td>\n      <td>15102017</td>\n      <td>06</td>\n      <td>0</td>\n      <td>1</td>\n      <td>NaN</td>\n      <td>02</td>\n      <td>0</td>\n      <td>3</td>\n    </tr>\n    <tr>\n      <th>33864</th>\n      <td>33865</td>\n      <td>1</td>\n      <td>2755092</td>\n      <td>353800</td>\n      <td>1</td>\n      <td>26</td>\n      <td>1</td>\n      <td>5</td>\n      <td>999992</td>\n      <td>00</td>\n      <td>...</td>\n      <td>5</td>\n      <td>4</td>\n      <td>24102017</td>\n      <td>08</td>\n      <td>0</td>\n      <td>1</td>\n      <td>NaN</td>\n      <td>04</td>\n      <td>1</td>\n      <td>5</td>\n    </tr>\n    <tr>\n      <th>33865</th>\n      <td>33866</td>\n      <td>1</td>\n      <td>2077574</td>\n      <td>355030</td>\n      <td>1</td>\n      <td>33</td>\n      <td>1</td>\n      <td>4</td>\n      <td>999992</td>\n      <td>01</td>\n      <td>...</td>\n      <td>5</td>\n      <td>4</td>\n      <td>21082017</td>\n      <td>05</td>\n      <td>0</td>\n      <td>1</td>\n      <td>NaN</td>\n      <td>04</td>\n      <td>1</td>\n      <td>5</td>\n    </tr>\n    <tr>\n      <th>33866</th>\n      <td>33867</td>\n      <td>2</td>\n      <td>6901743</td>\n      <td>280210</td>\n      <td>1</td>\n      <td>23</td>\n      <td>1</td>\n      <td>4</td>\n      <td>622020</td>\n      <td>02</td>\n      <td>...</td>\n      <td>4</td>\n      <td>4</td>\n      <td>06112017</td>\n      <td>12</td>\n      <td>0</td>\n      <td>1</td>\n      <td>NaN</td>\n      <td>03</td>\n      <td>1</td>\n      <td>5</td>\n    </tr>\n  </tbody>\n</table>\n<p>33867 rows × 61 columns</p>\n</div>"
     },
     "metadata": {},
     "execution_count": 93
    }
   ],
   "source": [
    "import pandas as pd\n",
    "dnse = pd.read_csv(R'C:\\Users\\JUEFE\\Desktop\\Fe\\Jupyter\\Data Exploratory Analysis\\DNSE2017.csv', dtype=str)\n",
    "dnse"
   ]
  },
  {
   "cell_type": "code",
   "execution_count": 94,
   "metadata": {},
   "outputs": [
    {
     "output_type": "execute_result",
     "data": {
      "text/plain": [
       "Index(['contador', 'ORIGEM', 'CODESTAB', 'CODMUNNASC', 'LOCNASC', 'IDADEMAE',\n",
       "       'ESTCIVMAE', 'ESCMAE', 'CODOCUPMAE', 'QTDFILVIVO', 'QTDFILMORT',\n",
       "       'CODMUNRES', 'GESTACAO', 'GRAVIDEZ', 'PARTO', 'CONSULTAS', 'DTNASC',\n",
       "       'HORANASC', 'SEXO', 'APGAR1', 'APGAR5', 'RACACOR', 'PESO', 'IDANOMAL',\n",
       "       'DTCADASTRO', 'CODANOMAL', 'NUMEROLOTE', 'VERSAOSIST', 'DTRECEBIM',\n",
       "       'DIFDATA', 'DTRECORIGA', 'NATURALMAE', 'CODMUNNATU', 'CODUFNATU',\n",
       "       'ESCMAE2010', 'SERIESCMAE', 'DTNASCMAE', 'RACACORMAE', 'QTDGESTANT',\n",
       "       'QTDPARTNOR', 'QTDPARTCES', 'IDADEPAI', 'DTULTMENST', 'SEMAGESTAC',\n",
       "       'TPMETESTIM', 'CONSPRENAT', 'MESPRENAT', 'TPAPRESENT', 'STTRABPART',\n",
       "       'STCESPARTO', 'TPNASCASSI', 'TPFUNCRESP', 'TPDOCRESP', 'DTDECLARAC',\n",
       "       'ESCMAEAGR1', 'STDNEPIDEM', 'STDNNOVA', 'CODPAISRES', 'TPROBSON',\n",
       "       'PARIDADE', 'KOTELCHUCK'],\n",
       "      dtype='object')"
      ]
     },
     "metadata": {},
     "execution_count": 94
    }
   ],
   "source": [
    "dnse.columns"
   ]
  },
  {
   "cell_type": "code",
   "execution_count": 95,
   "metadata": {},
   "outputs": [
    {
     "output_type": "execute_result",
     "data": {
      "text/plain": [
       "      IDADEMAE CODOCUPMAE  PESO APGAR1 APGAR5 QTDFILVIVO QTDFILMORT\n",
       "0           24     999992  3556     09     10         01         00\n",
       "1           34     622020  2760     08     09         03         01\n",
       "2           19     622020  3010     08     09        NaN        NaN\n",
       "3           19     999992  3720     08     09         01        NaN\n",
       "4           16     999991  2900     09     10         00         04\n",
       "...        ...        ...   ...    ...    ...        ...        ...\n",
       "33862       31     121010  2735     06     07         01         00\n",
       "33863       26     376225  3230     08     09         00         00\n",
       "33864       26     999992  3640     09     09         00         01\n",
       "33865       33     999992  3115     08     09         01         00\n",
       "33866       23     622020  3100     09     10         02        NaN\n",
       "\n",
       "[33867 rows x 7 columns]"
      ],
      "text/html": "<div>\n<style scoped>\n    .dataframe tbody tr th:only-of-type {\n        vertical-align: middle;\n    }\n\n    .dataframe tbody tr th {\n        vertical-align: top;\n    }\n\n    .dataframe thead th {\n        text-align: right;\n    }\n</style>\n<table border=\"1\" class=\"dataframe\">\n  <thead>\n    <tr style=\"text-align: right;\">\n      <th></th>\n      <th>IDADEMAE</th>\n      <th>CODOCUPMAE</th>\n      <th>PESO</th>\n      <th>APGAR1</th>\n      <th>APGAR5</th>\n      <th>QTDFILVIVO</th>\n      <th>QTDFILMORT</th>\n    </tr>\n  </thead>\n  <tbody>\n    <tr>\n      <th>0</th>\n      <td>24</td>\n      <td>999992</td>\n      <td>3556</td>\n      <td>09</td>\n      <td>10</td>\n      <td>01</td>\n      <td>00</td>\n    </tr>\n    <tr>\n      <th>1</th>\n      <td>34</td>\n      <td>622020</td>\n      <td>2760</td>\n      <td>08</td>\n      <td>09</td>\n      <td>03</td>\n      <td>01</td>\n    </tr>\n    <tr>\n      <th>2</th>\n      <td>19</td>\n      <td>622020</td>\n      <td>3010</td>\n      <td>08</td>\n      <td>09</td>\n      <td>NaN</td>\n      <td>NaN</td>\n    </tr>\n    <tr>\n      <th>3</th>\n      <td>19</td>\n      <td>999992</td>\n      <td>3720</td>\n      <td>08</td>\n      <td>09</td>\n      <td>01</td>\n      <td>NaN</td>\n    </tr>\n    <tr>\n      <th>4</th>\n      <td>16</td>\n      <td>999991</td>\n      <td>2900</td>\n      <td>09</td>\n      <td>10</td>\n      <td>00</td>\n      <td>04</td>\n    </tr>\n    <tr>\n      <th>...</th>\n      <td>...</td>\n      <td>...</td>\n      <td>...</td>\n      <td>...</td>\n      <td>...</td>\n      <td>...</td>\n      <td>...</td>\n    </tr>\n    <tr>\n      <th>33862</th>\n      <td>31</td>\n      <td>121010</td>\n      <td>2735</td>\n      <td>06</td>\n      <td>07</td>\n      <td>01</td>\n      <td>00</td>\n    </tr>\n    <tr>\n      <th>33863</th>\n      <td>26</td>\n      <td>376225</td>\n      <td>3230</td>\n      <td>08</td>\n      <td>09</td>\n      <td>00</td>\n      <td>00</td>\n    </tr>\n    <tr>\n      <th>33864</th>\n      <td>26</td>\n      <td>999992</td>\n      <td>3640</td>\n      <td>09</td>\n      <td>09</td>\n      <td>00</td>\n      <td>01</td>\n    </tr>\n    <tr>\n      <th>33865</th>\n      <td>33</td>\n      <td>999992</td>\n      <td>3115</td>\n      <td>08</td>\n      <td>09</td>\n      <td>01</td>\n      <td>00</td>\n    </tr>\n    <tr>\n      <th>33866</th>\n      <td>23</td>\n      <td>622020</td>\n      <td>3100</td>\n      <td>09</td>\n      <td>10</td>\n      <td>02</td>\n      <td>NaN</td>\n    </tr>\n  </tbody>\n</table>\n<p>33867 rows × 7 columns</p>\n</div>"
     },
     "metadata": {},
     "execution_count": 95
    }
   ],
   "source": [
    "dnse[['IDADEMAE','CODOCUPMAE','PESO','APGAR1', 'APGAR5','QTDFILVIVO', 'QTDFILMORT']]"
   ]
  },
  {
   "cell_type": "code",
   "execution_count": 100,
   "metadata": {},
   "outputs": [
    {
     "output_type": "execute_result",
     "data": {
      "text/plain": [
       "                      0\n",
       "PESO        3223.196332\n",
       "IDADEMAE      26.148079\n",
       "QTDFILVIVO     1.123062\n",
       "QTDFILMORT     0.310486\n",
       "APGAR1         8.443829\n",
       "APGAR5         9.526913"
      ],
      "text/html": "<div>\n<style scoped>\n    .dataframe tbody tr th:only-of-type {\n        vertical-align: middle;\n    }\n\n    .dataframe tbody tr th {\n        vertical-align: top;\n    }\n\n    .dataframe thead th {\n        text-align: right;\n    }\n</style>\n<table border=\"1\" class=\"dataframe\">\n  <thead>\n    <tr style=\"text-align: right;\">\n      <th></th>\n      <th>0</th>\n    </tr>\n  </thead>\n  <tbody>\n    <tr>\n      <th>PESO</th>\n      <td>3223.196332</td>\n    </tr>\n    <tr>\n      <th>IDADEMAE</th>\n      <td>26.148079</td>\n    </tr>\n    <tr>\n      <th>QTDFILVIVO</th>\n      <td>1.123062</td>\n    </tr>\n    <tr>\n      <th>QTDFILMORT</th>\n      <td>0.310486</td>\n    </tr>\n    <tr>\n      <th>APGAR1</th>\n      <td>8.443829</td>\n    </tr>\n    <tr>\n      <th>APGAR5</th>\n      <td>9.526913</td>\n    </tr>\n  </tbody>\n</table>\n</div>"
     },
     "metadata": {},
     "execution_count": 100
    }
   ],
   "source": [
    "# 1.Qual a média da idade da mãe, peso, apgar 1 min, apgar 5 min, quantidade de filhos vivos e quantidade de filhos mortos?\n",
    "\n",
    "campos_medias = dnse[['PESO','IDADEMAE','QTDFILVIVO','QTDFILMORT','APGAR1','APGAR5']]\n",
    "medias = campos_medias.mean().to_frame()\n",
    "medias\n",
    "\n"
   ]
  },
  {
   "cell_type": "code",
   "execution_count": 101,
   "metadata": {},
   "outputs": [
    {
     "output_type": "execute_result",
     "data": {
      "text/plain": [
       "26.148079251188474"
      ]
     },
     "metadata": {},
     "execution_count": 101
    }
   ],
   "source": [
    "# 2.Qual a idade tal que metade das idades das mães são menores que ela (mediana)?\n",
    "\n",
    "\n",
    "\n",
    "dnse.IDADEMAE = pd.to_numeric(dnse.IDADEMAE).astype(pd.Int64Dtype())\n",
    "dnse.IDADEMAE.dtype\n",
    "\n",
    "media = dnse.IDADEMAE.mean()        \n",
    "media\n",
    "\n",
    "\n"
   ]
  },
  {
   "cell_type": "code",
   "execution_count": 49,
   "metadata": {},
   "outputs": [
    {
     "output_type": "execute_result",
     "data": {
      "text/plain": [
       "3223.196331521739"
      ]
     },
     "metadata": {},
     "execution_count": 49
    }
   ],
   "source": [
    "dnse.PESO = pd.to_numeric(dnse.PESO).astype(pd.Int64Dtype())\n",
    "dnse.PESO.dtype\n",
    "\n",
    "media = dnse.PESO.mean()        \n",
    "media "
   ]
  },
  {
   "cell_type": "code",
   "execution_count": 50,
   "metadata": {},
   "outputs": [
    {
     "output_type": "execute_result",
     "data": {
      "text/plain": [
       "8.443828562774497"
      ]
     },
     "metadata": {},
     "execution_count": 50
    }
   ],
   "source": [
    "dnse.APGAR1 = pd.to_numeric(dnse.APGAR1).astype(pd.Int64Dtype())\n",
    "dnse.APGAR1.dtype\n",
    "\n",
    "media = dnse.APGAR1.mean()        \n",
    "media "
   ]
  },
  {
   "cell_type": "code",
   "execution_count": 51,
   "metadata": {},
   "outputs": [
    {
     "output_type": "execute_result",
     "data": {
      "text/plain": [
       "9.526913296197627"
      ]
     },
     "metadata": {},
     "execution_count": 51
    }
   ],
   "source": [
    "dnse.APGAR5 = pd.to_numeric(dnse.APGAR5).astype(pd.Int64Dtype())\n",
    "dnse.APGAR5.dtype\n",
    "\n",
    "media = dnse.APGAR5.mean()        \n",
    "media "
   ]
  },
  {
   "cell_type": "code",
   "execution_count": 52,
   "metadata": {},
   "outputs": [
    {
     "output_type": "execute_result",
     "data": {
      "text/plain": [
       "1.1230616302186878"
      ]
     },
     "metadata": {},
     "execution_count": 52
    }
   ],
   "source": [
    "dnse.QTDFILVIVO = pd.to_numeric(dnse.QTDFILVIVO).astype(pd.Int64Dtype())\n",
    "dnse.QTDFILVIVO.dtype\n",
    "\n",
    "media = dnse.QTDFILVIVO.mean()        \n",
    "media "
   ]
  },
  {
   "cell_type": "code",
   "execution_count": 53,
   "metadata": {},
   "outputs": [
    {
     "output_type": "execute_result",
     "data": {
      "text/plain": [
       "0.31048636082961023"
      ]
     },
     "metadata": {},
     "execution_count": 53
    }
   ],
   "source": [
    "dnse.QTDFILMORT = pd.to_numeric(dnse.QTDFILMORT).astype(pd.Int64Dtype())\n",
    "dnse.QTDFILMORT.dtype\n",
    "\n",
    "media = dnse.QTDFILMORT.mean()        \n",
    "media"
   ]
  },
  {
   "cell_type": "code",
   "execution_count": 54,
   "metadata": {},
   "outputs": [
    {
     "output_type": "execute_result",
     "data": {
      "text/plain": [
       "26.0"
      ]
     },
     "metadata": {},
     "execution_count": 54
    }
   ],
   "source": [
    "# 3.Qual o apgar de 1 min que mais aparece (moda)?\n",
    "\n",
    "\n",
    "dnse.IDADEMAE = pd.to_numeric(dnse.IDADEMAE).astype(pd.Int64Dtype())\n",
    "dnse.IDADEMAE.dtype\n",
    "\n",
    "mediana = dnse.IDADEMAE.median()      \n",
    "mediana\n"
   ]
  },
  {
   "cell_type": "code",
   "execution_count": 102,
   "metadata": {},
   "outputs": [
    {
     "output_type": "execute_result",
     "data": {
      "text/plain": [
       "   APGAR1  APGAR5\n",
       "0     9.0    10.0"
      ],
      "text/html": "<div>\n<style scoped>\n    .dataframe tbody tr th:only-of-type {\n        vertical-align: middle;\n    }\n\n    .dataframe tbody tr th {\n        vertical-align: top;\n    }\n\n    .dataframe thead th {\n        text-align: right;\n    }\n</style>\n<table border=\"1\" class=\"dataframe\">\n  <thead>\n    <tr style=\"text-align: right;\">\n      <th></th>\n      <th>APGAR1</th>\n      <th>APGAR5</th>\n    </tr>\n  </thead>\n  <tbody>\n    <tr>\n      <th>0</th>\n      <td>9.0</td>\n      <td>10.0</td>\n    </tr>\n  </tbody>\n</table>\n</div>"
     },
     "metadata": {},
     "execution_count": 102
    }
   ],
   "source": [
    "# 3.Qual o apgar de 1 min que mais aparece (moda)?\n",
    "\n",
    "campos_modas = dnse[['APGAR1','APGAR5']]\n",
    "modas = campos_modas.mode()\n",
    "modas\n"
   ]
  },
  {
   "cell_type": "code",
   "execution_count": 103,
   "metadata": {},
   "outputs": [
    {
     "output_type": "execute_result",
     "data": {
      "text/plain": [
       "   APGAR1  APGAR5\n",
       "0     9.0    10.0"
      ],
      "text/html": "<div>\n<style scoped>\n    .dataframe tbody tr th:only-of-type {\n        vertical-align: middle;\n    }\n\n    .dataframe tbody tr th {\n        vertical-align: top;\n    }\n\n    .dataframe thead th {\n        text-align: right;\n    }\n</style>\n<table border=\"1\" class=\"dataframe\">\n  <thead>\n    <tr style=\"text-align: right;\">\n      <th></th>\n      <th>APGAR1</th>\n      <th>APGAR5</th>\n    </tr>\n  </thead>\n  <tbody>\n    <tr>\n      <th>0</th>\n      <td>9.0</td>\n      <td>10.0</td>\n    </tr>\n  </tbody>\n</table>\n</div>"
     },
     "metadata": {},
     "execution_count": 103
    }
   ],
   "source": [
    "# 4.Qual o apgar de 5 min que mais aparece (moda)?\n",
    "\n",
    "campos_modas = dnse[['APGAR1','APGAR5']]\n",
    "modas = campos_modas.mode()\n",
    "modas\n",
    "\n"
   ]
  },
  {
   "cell_type": "code",
   "execution_count": 67,
   "metadata": {},
   "outputs": [
    {
     "output_type": "execute_result",
     "data": {
      "text/plain": [
       "       PESO\n",
       "0.1  2570.0"
      ],
      "text/html": "<div>\n<style scoped>\n    .dataframe tbody tr th:only-of-type {\n        vertical-align: middle;\n    }\n\n    .dataframe tbody tr th {\n        vertical-align: top;\n    }\n\n    .dataframe thead th {\n        text-align: right;\n    }\n</style>\n<table border=\"1\" class=\"dataframe\">\n  <thead>\n    <tr style=\"text-align: right;\">\n      <th></th>\n      <th>PESO</th>\n    </tr>\n  </thead>\n  <tbody>\n    <tr>\n      <th>0.1</th>\n      <td>2570.0</td>\n    </tr>\n  </tbody>\n</table>\n</div>"
     },
     "metadata": {},
     "execution_count": 67
    }
   ],
   "source": [
    "# 5.Qual o peso da criança tal que 10% dos pesos são menores (P10)?\n",
    "\n",
    "campos_quantis = dnse[['PESO']]\n",
    "quantis = campos_quantis.quantile([0.1])\n",
    "quantis\n"
   ]
  },
  {
   "cell_type": "code",
   "execution_count": 66,
   "metadata": {},
   "outputs": [
    {
     "output_type": "execute_result",
     "data": {
      "text/plain": [
       "        PESO\n",
       "0.75  3575.0"
      ],
      "text/html": "<div>\n<style scoped>\n    .dataframe tbody tr th:only-of-type {\n        vertical-align: middle;\n    }\n\n    .dataframe tbody tr th {\n        vertical-align: top;\n    }\n\n    .dataframe thead th {\n        text-align: right;\n    }\n</style>\n<table border=\"1\" class=\"dataframe\">\n  <thead>\n    <tr style=\"text-align: right;\">\n      <th></th>\n      <th>PESO</th>\n    </tr>\n  </thead>\n  <tbody>\n    <tr>\n      <th>0.75</th>\n      <td>3575.0</td>\n    </tr>\n  </tbody>\n</table>\n</div>"
     },
     "metadata": {},
     "execution_count": 66
    }
   ],
   "source": [
    "# 6.Qual o peso da criança tal que 75% dos pesos são menores (Q3)?\n",
    "\n",
    "campos_quantis = dnse[['PESO']]\n",
    "quantis = campos_quantis.quantile([0.75])\n",
    "quantis"
   ]
  },
  {
   "cell_type": "code",
   "execution_count": 105,
   "metadata": {},
   "outputs": [
    {
     "output_type": "execute_result",
     "data": {
      "text/plain": [
       "count    27531.000000\n",
       "mean         0.310486\n",
       "std          0.647047\n",
       "min          0.000000\n",
       "25%          0.000000\n",
       "50%          0.000000\n",
       "75%          0.000000\n",
       "max         14.000000\n",
       "Name: QTDFILMORT, dtype: float64"
      ]
     },
     "metadata": {},
     "execution_count": 105
    }
   ],
   "source": [
    "# 7.Qual a quantidade de filhos mortos que mais aparece?\n",
    "\n",
    "campos_modas = dnse[['QTDFILMORT']]\n",
    "modas = campos_modas.mode()\n",
    "modas\n",
    "\n",
    "\n",
    "dnse.QTDFILMORT.describe()"
   ]
  },
  {
   "cell_type": "code",
   "execution_count": 106,
   "metadata": {},
   "outputs": [
    {
     "output_type": "execute_result",
     "data": {
      "text/plain": [
       "35.07692307692308"
      ]
     },
     "metadata": {},
     "execution_count": 106
    }
   ],
   "source": [
    "# 8.Qual a média de idade de mães solteiras?\n",
    "\n",
    "estadocivil= dnse[dnse.ESCMAE == '1']\n",
    "estadocivil.IDADEMAE.mean()"
   ]
  },
  {
   "cell_type": "code",
   "execution_count": 107,
   "metadata": {},
   "outputs": [
    {
     "output_type": "execute_result",
     "data": {
      "text/plain": [
       "0.25    1.0\n",
       "Name: QTDFILVIVO, dtype: float64"
      ]
     },
     "metadata": {},
     "execution_count": 107
    }
   ],
   "source": [
    "# 9.Qual a quantidade de filhos vivos das mães com até 3 anos de escolaridade tal que 25% dessa quantidade são menores (Q1)?\n",
    "\n",
    "escolaridade = dnse[(dnse.ESCMAE == '1') | (dnse.ESCMAE =='2')]\n",
    "escolaridade.QTDFILVIVO.quantile([0.25])\n",
    "\n"
   ]
  },
  {
   "cell_type": "code",
   "execution_count": 108,
   "metadata": {},
   "outputs": [
    {
     "output_type": "execute_result",
     "data": {
      "text/plain": [
       "count    1676.000000\n",
       "mean        3.158115\n",
       "std         2.394658\n",
       "min         0.000000\n",
       "25%         1.000000\n",
       "50%         3.000000\n",
       "75%         4.000000\n",
       "max        12.000000\n",
       "Name: QTDFILVIVO, dtype: float64"
      ]
     },
     "metadata": {},
     "execution_count": 108
    }
   ],
   "source": [
    "escolaridade.QTDFILVIVO.describe()"
   ]
  },
  {
   "cell_type": "code",
   "execution_count": 111,
   "metadata": {},
   "outputs": [
    {
     "output_type": "execute_result",
     "data": {
      "text/plain": [
       "0    21\n",
       "dtype: Int64"
      ]
     },
     "metadata": {},
     "execution_count": 111
    }
   ],
   "source": [
    "# 10.Qual a moda da idade das mães para as crianças que nasceram com anomalia congênita?\n",
    "anomalia = dnse[dnse.IDANOMAL == '1']\n",
    "anomalia.IDADEMAE.mode()"
   ]
  },
  {
   "cell_type": "code",
   "execution_count": 112,
   "metadata": {},
   "outputs": [
    {
     "output_type": "execute_result",
     "data": {
      "text/plain": [
       "count    407.000000\n",
       "mean      27.343980\n",
       "std        7.373539\n",
       "min       13.000000\n",
       "25%       21.000000\n",
       "50%       27.000000\n",
       "75%       33.000000\n",
       "max       47.000000\n",
       "Name: IDADEMAE, dtype: float64"
      ]
     },
     "metadata": {},
     "execution_count": 112
    }
   ],
   "source": [
    "anomalia.IDADEMAE.describe()"
   ]
  }
 ]
}